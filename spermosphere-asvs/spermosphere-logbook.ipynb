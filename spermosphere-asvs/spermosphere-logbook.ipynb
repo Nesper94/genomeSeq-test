{
 "cells": [
  {
   "cell_type": "markdown",
   "metadata": {},
   "source": [
    "# Spermosphere logbook\n",
    "\n",
    "Initialize Qiime2:"
   ]
  },
  {
   "cell_type": "code",
   "execution_count": 1,
   "metadata": {},
   "outputs": [
    {
     "name": "stdout",
     "output_type": "stream",
     "text": [
      "(qiime2-2019.10) "
     ]
    },
    {
     "ename": "",
     "evalue": "1",
     "output_type": "error",
     "traceback": []
    }
   ],
   "source": [
    "source activate qiime2-2019.10"
   ]
  },
  {
   "cell_type": "markdown",
   "metadata": {},
   "source": [
    "Export ASV table stats visualization:"
   ]
  },
  {
   "cell_type": "code",
   "execution_count": null,
   "metadata": {},
   "outputs": [],
   "source": [
    "qiime feature-table summarize \\\n",
    "  --i-table table.qza \\\n",
    "  --o-visualization table.qzv \\\n",
    "  --m-sample-metadata-file metadata.tsv"
   ]
  },
  {
   "cell_type": "markdown",
   "metadata": {},
   "source": [
    "## Spermosphere taxonomic classification\n",
    "\n",
    "We created the folder `classifier-spermosphere/` in the BIOS server, inside this folder is the file `rep-seqs.qza` containing reads from spermosphere and the classifier `classifier.qza`.\n",
    "\n",
    "Then we ran the classifier:\n",
    "\n",
    "```bash\n",
    "screen\n",
    "time qiime feature-classifier classify-sklearn \\\n",
    "  --i-classifier classifier.qza \\\n",
    "  --i-reads rep-seqs.qza \\\n",
    "  --o-classification taxonomy.qza\n",
    "```"
   ]
  },
  {
   "cell_type": "markdown",
   "metadata": {},
   "source": [
    "Export taxonomy to a TSV file:"
   ]
  },
  {
   "cell_type": "code",
   "execution_count": null,
   "metadata": {},
   "outputs": [],
   "source": [
    "qiime tools export \\\n",
    "    --input-path taxonomy-spermosphere/taxonomy.qza \\\n",
    "    --output-path taxonomy-spermosphere/"
   ]
  },
  {
   "cell_type": "markdown",
   "metadata": {},
   "source": [
    "## 2020-03-04 Phylogenetic tree from taxonomic classification\n",
    "\n",
    "Using the files `table.qza` and `taxonomy.qza` created by the Qiime2 classifier using Silva seqs as training data we ran the following command:\n",
    "\n",
    "```bash\n",
    "qiime taxa collapse \\\n",
    "      --i-table table.qza \\\n",
    "      --i-taxonomy taxonomy.qza \\\n",
    "      --p-level 6 \\ # or whatever level of taxonomy you want\n",
    "      --output-dir taxtable/\n",
    "```\n",
    "\n",
    "That info was in [this page](https://forum.qiime2.org/t/how-to-make-classic-otu-table-with-qiime2/3612/3).\n",
    "\n",
    "In the output folder `taxtable/` was stored a file named `collapsed-table.qza`, this file was decompressed and then the file `feature-table.biom` contained there was converted to `.tsv` runing the next command:\n",
    "\n",
    "`(qiime2-2019.10) nesper@gojira-E402MA:~/Documentos/genomeseq/taxonomy-spermosphere/phylogenetic-tree/taxtable$ biom convert -i 8f17f216-8ae0-43ba-a691-fbb0428afc4d/data/feature-table.biom -o feature-table-taxonomy.tsv --to-tsv`\n",
    "\n",
    "\n",
    "We also generated a barplot of the taxa found in the classification using the next command:\n",
    "\n",
    "```bash\n",
    "qiime taxa barplot \\\n",
    "  --i-table table.qza \\\n",
    "  --i-taxonomy taxonomy.qza \\\n",
    "  --m-metadata-file metadatos.tsv \\\n",
    "  --o-visualization taxa-bar-plots.qzv\n",
    "```\n",
    "  \n",
    "This was done following the instructions in [this link](https://chmi-sops.github.io/mydoc_qiime2.html#step-9-assign-taxonomy).\n",
    "\n",
    "The output file was visualized with the following command:\n",
    "\n",
    "    qiime tools view taxa-bar-plots.qzv\n",
    "\n",
    "![taxa-bar-plot-spermosphere](taxonomy-spermosphere/taxa-bar-plot-spe.png)\n",
    "\n",
    "**Fig 1.** Taxonomical bar graphs showing the phyla of bacteria found in the different samples. Colors are presented from the top to the bottom of the graph (A: Ancestral, M: Modern, Soil: Uncultured soil)."
   ]
  },
  {
   "cell_type": "markdown",
   "metadata": {},
   "source": [
    "## 2020-03-06 Phylogenetic tree\n",
    "\n",
    "After aligning the spermosphere sequences, we performed the masking to remove non-informative positions in the alignment and create more efficiently the phylogeny. We used the following command in the BIOS server:\n",
    "\n",
    "```bash\n",
    "qiime alignment mask \\\n",
    "  --i-alignment aligned-rep-seqs-spe.qza \\\n",
    "  --o-masked-alignment masked-aligned-rep-seqs-spermosphere.qza\n",
    "```\n",
    "\n",
    "We then made the phylogenetic inference:\n",
    "\n",
    "```bash\n",
    "qiime phylogeny fasttree \\\n",
    "  --i-alignment masked-aligned-rep-seqs-spermosphere.qza \\\n",
    "  --o-tree fasttree-tree-spermosphere.qza```\n",
    "\n",
    "Finally we rooted the tree:\n",
    "\n",
    "```bash\n",
    "qiime phylogeny midpoint-root \\\n",
    "  --i-tree fasttree-tree-spermosphere.qza \\\n",
    "  --o-rooted-tree fasttree-tree-rooted-spe.qza```\n",
    "\n",
    "### Fasttree to Newick\n",
    "\n",
    "To convert the phylogenetic tree generated in Qiime2 by mafft and then use fasttree, we used the next command:\n",
    "\n",
    "```bash\n",
    "qiime tools export --input-path fasttree-tree-spermosphere.qza --output-path newick-tree-spe\n",
    "```\n",
    "\n",
    "In the folder `newick-tree-spe/` is stored the file `tree.nwk` with the info from the phylogenetic tree.\n",
    "\n",
    "**From here we will use the abreviation *spe* to denote files related with spermosphere data.**"
   ]
  },
  {
   "cell_type": "markdown",
   "metadata": {},
   "source": [
    "## iTOL tree\n",
    "\n",
    "The fasttree phylogenetic tree was uploaded to iTOL along with the `taxonomy.qza` file.\n",
    "\n",
    "We also uploaded `table.qza` containing the abundance information.\n",
    "\n",
    "## 2020-03-25 Composition analysis (ANCOM)\n",
    "\n",
    "We are also analyzing composition in order to know which ASVs are differentially abundant between samples. We ran the following commands:\n",
    "\n",
    "```bash\n",
    "(qiime2-2019.10) jeperezj@r1masterl01:~/jcar/spermosphere/ancom-composition-analysis$ qiime composition add-pseudocount \\\n",
    "  --i-table table.qza \\\n",
    "  --o-composition-table comp-table-spe.qza\n",
    "  \n",
    "(base) jeperezj@r1masterl01:~/jcar/rhizosphere/ancom-composition-analysis$ qiime composition ancom \\\n",
    "    --i-table comp-table-spe.qza \\\n",
    "    --m-metadata-file metadatos.tsv \\\n",
    "    --m-metadata-column Plant_status \\\n",
    "    --o-visualization ancom-plant-status-spe.qzv```\n",
    "\n",
    "This last output file was transferred to my laptop:\n",
    "\n",
    "```bash\n",
    "(base) nesper@gojira-E402MA:~/Documentos/genomeseq/vpnbios-jeperezj$ scp jeperezj@door1vpn.bios.co:~/jcar/spermosphere/ancom-composition-analysis/ancom-plant-status-spe.qzv ../spermosphere/ancom-composition-analysis/\n",
    "```\n",
    "ANCOM visualization:"
   ]
  },
  {
   "cell_type": "code",
   "execution_count": null,
   "metadata": {},
   "outputs": [],
   "source": [
    "qiime tools view ancom-composition-analysis/ancom-plant-status-spe.qzv"
   ]
  },
  {
   "cell_type": "markdown",
   "metadata": {},
   "source": [
    "This is the output visualization with taxa:\n",
    "\n",
    "![Ancom volcano plot spermosphere with taxa](ancom-composition-analysis/ancom-volcano-plot-spe-taxa.png)\n",
    "**Fig 2.** ANCOM Volcano plot.\n",
    "\n",
    "These are the taxonomic entities that were found to be differentially abundant between samples:\n",
    "\n",
    "D_0__Bacteria;D_1__Actinobacteria;D_2__Actinobacteria;D_3__Micrococcales;D_4__Micrococcaceae;D_5__Paenarthrobacter (0.94648)\n",
    "D_0__Bacteria;D_1__Proteobacteria;D_2__Gammaproteobacteria;D_3__Xanthomonadales;D_4__Xanthomonadaceae;D_5__Luteimonas (0.73401)\n",
    "\n",
    "## ANCOM with only cultured soil data\n",
    "\n",
    "As we expect to find a big difference between microbial composition in cultured vs. uncultured soil, and the ANCOM is best detecting differential abundance between similar samples, it is better to create a data set with only cultured soil and compare Modern and Ancestral samples:\n",
    "\n",
    "```bash\n",
    "(qiime2-2019.10) jeperezj@r1masterl01:~/jcar/spermosphere$ qiime feature-table filter-samples \\\n",
    "    --i-table table.qza \\\n",
    "    --m-metadata-file metadatos.tsv \\\n",
    "    --p-where \"[Plant_status]!='Soil'\" \\\n",
    "    --o-filtered-table cultured-soil-table-spe.qza\n",
    "\n",
    "(qiime2-2019.10) jeperezj@r1masterl01:~/jcar/spermosphere/ancom-composition-analysis/only-cultured-soil-ancom$ qiime composition add-pseudocount \\\n",
    "    --i-table ../../cultured-soil-table-spe.qza \\\n",
    "    --o-composition-table comp-table-cultured-spe.qza\n",
    "\n",
    "(qiime2-2019.10) jeperezj@r1masterl01:~/jcar/spermosphere/ancom-composition-analysis/only-cultured-soil-ancom$ time qiime composition ancom \\\n",
    "    --i-table comp-table-cultured-spe.qza  \\\n",
    "    --m-metadata-file ../metadatos.tsv  \\\n",
    "    --m-metadata-column Plant_status  \\\n",
    "    --o-visualization ancom-plant-status-cultured-spe.qzv\n",
    "```\n",
    "\n",
    "### ANCOM grouping ASVs by family\n",
    "\n",
    "We also grouped ASVs by family and ran ANCOM with only cultured soil at family level:\n",
    "\n",
    "```bash\n",
    "(qiime2-2019.10) jeperezj@r1masterl01:~/jcar/spermosphere/ancom-composition-analysis/collapsed-to-family$ qiime taxa collapse \\\n",
    "    --i-table cultured-soil-table-spe.qza \\\n",
    "    --i-taxonomy taxonomy.qza \\\n",
    "    --o-collapsed-table table-family-level-spe.qza \\\n",
    "    --p-level 5\n",
    "    \n",
    "(qiime2-2019.10) jeperezj@r1masterl01:~/jcar/spermosphere/ancom-composition-analysis/collapsed-to-family$ qiime composition add-pseudocount \\\n",
    "    --i-table table-family-level-spe.qza \\\n",
    "    --o-composition-table comp-table-famlvl-spe.qza\n",
    "\n",
    "(qiime2-2019.10) jeperezj@r1masterl01:~/jcar/spermosphere/ancom-composition-analysis/collapsed-to-family$ time qiime composition ancom \\\n",
    "    --i-table comp-table-famlvl-spe.qza \\\n",
    "    --m-metadata-file metadatos.tsv \\\n",
    "    --m-metadata-column Plant_status \\\n",
    "    --o-visualization ancom-famlvl-cult-spe.qzv\n",
    "```\n",
    "**Nota:** This analysis took only 22 seconds! Previous ANCOM analysis took more than 15 hours."
   ]
  },
  {
   "cell_type": "markdown",
   "metadata": {},
   "source": [
    "# 2020-04-01 Reunión Meet\n",
    "\n",
    "Por hacer:\n",
    "- Ayudarle a Estefa con análisis de abundancia diferencial en R con el paquete MetagenomeSeq.\n",
    "- Seguir con el ANCOM.\n",
    "- Leer paper ANCOM.\n",
    "- Seguir con el árbol filogenético en iTOL."
   ]
  },
  {
   "cell_type": "markdown",
   "metadata": {},
   "source": [
    "# 2020-04-05 Gneiss composition analysis\n",
    "\n",
    "We will perform a composition analysis with Gneiss and compare its results with those from ANCOM. To do that we will follow [this tutorial](https://docs.qiime2.org/2020.2/tutorials/gneiss/).\n",
    "\n",
    "```bash\n",
    "(qiime2-2019.10) jeperezj@r1masterl01:~/jcar/spermosphere/gneiss-composition-analysis$ qiime gneiss correlation-clustering \\\n",
    "    --i-table ../table.qza \\\n",
    "    --o-clustering hierarchy-spe.qza\n",
    "    \n",
    "qiime gneiss dendrogram-heatmap \\\n",
    "  --i-table table.qza \\\n",
    "  --i-tree hierarchy-spe.qza \\\n",
    "  --m-metadata-file metadatos.tsv \\\n",
    "  --m-metadata-column Plant_status \\\n",
    "  --p-color-map seismic \\\n",
    "  --o-visualization heatmap-spe.qzv\n",
    "\n",
    "```\n",
    "\n",
    "# Dudas para reunión 2020-04-07\n",
    "En el material suplementario del paper de ANCOM (Mandal et al., 2015) decía:\n",
    "> As commonly done [5], we restricted the analysis to taxa that are present in at least 25%\n",
    "of the samples. This is done because low frequency OTUs are often thought to be difficult to interpret statistically.\n",
    "\n",
    "La pregunta es ¿hacemos lo mismo con nuestros datos?"
   ]
  },
  {
   "cell_type": "markdown",
   "metadata": {},
   "source": [
    "## 2020-04-16 Installing PhyloToAST\n",
    "\n",
    "The PhyloToAST project is a collection of python scripts that modifies the original QIIME pipeline. We will use it to produce a nice phylogenetic tree with information of abundances in the different samples.\n",
    "\n",
    "Visit [PhyloToAST web page](https://phylotoast.readthedocs.io/en/latest/index.html) for more information.\n",
    "\n",
    "Install PhyloToAST:"
   ]
  },
  {
   "cell_type": "code",
   "execution_count": null,
   "metadata": {},
   "outputs": [],
   "source": [
    "pip3 install phylotoast"
   ]
  },
  {
   "cell_type": "markdown",
   "metadata": {},
   "source": [
    "We will use specifically the scrip `iTol.py`. More information about the script [here](https://phylotoast.readthedocs.io/en/latest/scripts/iTol.html)."
   ]
  },
  {
   "cell_type": "code",
   "execution_count": null,
   "metadata": {},
   "outputs": [],
   "source": [
    "iTol.py -h"
   ]
  },
  {
   "cell_type": "markdown",
   "metadata": {},
   "source": [
    "Install required packages:"
   ]
  },
  {
   "cell_type": "code",
   "execution_count": null,
   "metadata": {},
   "outputs": [],
   "source": [
    "pip3 install cython\n",
    "pip3 install biom-format"
   ]
  },
  {
   "cell_type": "markdown",
   "metadata": {},
   "source": [
    "Export phylogenetic tree generated in Qiime2 in Newick format:"
   ]
  },
  {
   "cell_type": "code",
   "execution_count": null,
   "metadata": {},
   "outputs": [],
   "source": [
    "qiime tools export \\\n",
    "    --input-path phylogenetic-tree/fasttree-tree-spermosphere.qza \\\n",
    "    --output-path phylogenetic-tree/"
   ]
  },
  {
   "cell_type": "markdown",
   "metadata": {},
   "source": [
    "Export feature table to Biom format:"
   ]
  },
  {
   "cell_type": "code",
   "execution_count": null,
   "metadata": {},
   "outputs": [],
   "source": [
    "qiime tools export \\\n",
    "    --input-path table.qza \\\n",
    "    --output-path ./"
   ]
  },
  {
   "cell_type": "markdown",
   "metadata": {},
   "source": [
    "For some reason probably related to conda environment `iTol.py` doesn't work when Qiime2 is active. So be sure to run it without activating Qiime2 (for example by restarting the kernel in this notebook)."
   ]
  },
  {
   "cell_type": "code",
   "execution_count": null,
   "metadata": {
    "slideshow": {
     "slide_type": "-"
    }
   },
   "outputs": [],
   "source": [
    "iTol.py \\\n",
    "    -i feature-table.biom \\\n",
    "    -m metadatos.tsv \\\n",
    "    -t phylogenetic-tree/tree.nwk \\\n",
    "    -e tree \\\n",
    "    -o itol-table \\\n",
    "    -c Plant_status \\\n",
    "    -a NMRA \\\n",
    "    --stabilize_variance"
   ]
  },
  {
   "cell_type": "markdown",
   "metadata": {},
   "source": [
    "**Note:** The previous error could not be solved, so I abandoned this approach."
   ]
  },
  {
   "cell_type": "markdown",
   "metadata": {},
   "source": [
    "In [this forum](https://forum.qiime2.org/t/loading-greengenes-tree-in-itol/2319/10) Ivica Letunic, creator of iTol, recommends to create a zip file with Qiime2 artifacts (`tree.qza`,`taxonomy.qza` and `taxa-bar-plots.qzv`)  and upload it to iTol. Let's see how it works:"
   ]
  },
  {
   "cell_type": "code",
   "execution_count": null,
   "metadata": {},
   "outputs": [],
   "source": [
    "zip itol phylogenetic-tree/fasttree-tree-spermosphere.qza taxonomy-spermosphere/taxonomy.qza taxonomy-spermosphere/phylogenetic-tree/taxa-bar-plots.qzv"
   ]
  },
  {
   "cell_type": "markdown",
   "metadata": {},
   "source": [
    "In the same forum Letunic reported he had not implemented the uploading of files as zip but uploading each `.qza` to iTol wich was what I have done, in exception of `taxa-bar-plots.qzv` because iTol doesn't support it... so we are were we started."
   ]
  },
  {
   "cell_type": "markdown",
   "metadata": {},
   "source": [
    "## 2020-04-17 Filtering of low abundance features\n",
    "\n",
    "In order to produce a more clean phylogenetic tree we are going to remove features with less than 5% of relative abundance. We need to know the total abundance of the features in order to know which features to remove:"
   ]
  },
  {
   "cell_type": "code",
   "execution_count": null,
   "metadata": {},
   "outputs": [],
   "source": [
    "qiime tools view table.qzv"
   ]
  },
  {
   "cell_type": "markdown",
   "metadata": {},
   "source": [
    "We now proceed to filter the feature table and the rep-seqs accordingly:"
   ]
  },
  {
   "cell_type": "code",
   "execution_count": 13,
   "metadata": {},
   "outputs": [
    {
     "name": "stdout",
     "output_type": "stream",
     "text": [
      "(qiime2-2019.10) (qiime2-2019.10) \u001b[32mSaved FeatureTable[Frequency] to: filtered-data/filtered-table.qza\u001b[0m\n",
      "(qiime2-2019.10) (qiime2-2019.10) \u001b[32mSaved FeatureData[Sequence] to: filtered-data/filtered-rep-seqs.qza\u001b[0m\n",
      "(qiime2-2019.10) "
     ]
    },
    {
     "ename": "",
     "evalue": "1",
     "output_type": "error",
     "traceback": []
    }
   ],
   "source": [
    "mkdir filtered-data\n",
    "\n",
    "qiime feature-table filter-features \\\n",
    "    --i-table table.qza \\\n",
    "    --p-min-frequency 527 \\\n",
    "    --o-filtered-table filtered-data/filtered-table.qza\n",
    "\n",
    "qiime feature-table filter-seqs \\\n",
    "  --i-data rep-seqs.qza \\\n",
    "  --i-table filtered-data/filtered-table.qza \\\n",
    "  --o-filtered-data filtered-data/filtered-rep-seqs.qza"
   ]
  },
  {
   "cell_type": "markdown",
   "metadata": {},
   "source": [
    "Produce the phylogenetic tree with filtered data:"
   ]
  },
  {
   "cell_type": "code",
   "execution_count": 14,
   "metadata": {},
   "outputs": [
    {
     "name": "stdout",
     "output_type": "stream",
     "text": [
      "(qiime2-2019.10) (qiime2-2019.10) \u001b[32mSaved FeatureData[AlignedSequence] to: aligned-filtered-rep-seqs.qza\u001b[0m\n",
      "(qiime2-2019.10) (qiime2-2019.10) \u001b[32mSaved FeatureData[AlignedSequence] to: masked-aligned-filtered-rep-seqs.qza\u001b[0m\n",
      "(qiime2-2019.10) (qiime2-2019.10) \u001b[32mSaved Phylogeny[Unrooted] to: unrooted-tree-filtered.qza\u001b[0m\n",
      "(qiime2-2019.10) "
     ]
    },
    {
     "ename": "",
     "evalue": "1",
     "output_type": "error",
     "traceback": []
    }
   ],
   "source": [
    "cd filtered-data\n",
    "\n",
    "qiime alignment mafft \\\n",
    "  --i-sequences filtered-rep-seqs.qza \\\n",
    "  --o-alignment aligned-filtered-rep-seqs.qza\n",
    "\n",
    "qiime alignment mask \\\n",
    "  --i-alignment aligned-filtered-rep-seqs.qza \\\n",
    "  --o-masked-alignment masked-aligned-filtered-rep-seqs.qza\n",
    "\n",
    "qiime phylogeny fasttree \\\n",
    "  --i-alignment masked-aligned-filtered-rep-seqs.qza \\\n",
    "  --o-tree unrooted-tree-filtered.qza\n",
    "  \n",
    "cd ../"
   ]
  },
  {
   "cell_type": "markdown",
   "metadata": {},
   "source": [
    "Group samples by Plant_status:"
   ]
  },
  {
   "cell_type": "code",
   "execution_count": 5,
   "metadata": {},
   "outputs": [
    {
     "name": "stdout",
     "output_type": "stream",
     "text": [
      "\u001b[32mSaved FeatureTable[Frequency] to: filtered-data/grouped-filtered-table.qza\u001b[0m\n",
      "(qiime2-2019.10) "
     ]
    },
    {
     "ename": "",
     "evalue": "1",
     "output_type": "error",
     "traceback": []
    }
   ],
   "source": [
    "qiime feature-table group \\\n",
    "    --i-table filtered-data/filtered-table.qza \\\n",
    "    --p-axis sample \\\n",
    "    --m-metadata-file metadata.tsv \\\n",
    "    --m-metadata-column Plant_status \\\n",
    "    --p-mode sum \\\n",
    "    --o-grouped-table filtered-data/grouped-filtered-table.qza"
   ]
  },
  {
   "cell_type": "markdown",
   "metadata": {},
   "source": [
    "Transform absolute abundance data in relative abundance data:"
   ]
  },
  {
   "cell_type": "code",
   "execution_count": 6,
   "metadata": {},
   "outputs": [
    {
     "name": "stdout",
     "output_type": "stream",
     "text": [
      "(qiime2-2019.10) "
     ]
    },
    {
     "ename": "",
     "evalue": "1",
     "output_type": "error",
     "traceback": []
    }
   ],
   "source": [
    "cd filtered-data"
   ]
  },
  {
   "cell_type": "code",
   "execution_count": 8,
   "metadata": {},
   "outputs": [
    {
     "name": "stdout",
     "output_type": "stream",
     "text": [
      "\u001b[32mSaved FeatureTable[RelativeFrequency] to: rel-grouped-filtered-table.qza\u001b[0m\n",
      "(qiime2-2019.10) "
     ]
    },
    {
     "ename": "",
     "evalue": "1",
     "output_type": "error",
     "traceback": []
    }
   ],
   "source": [
    "qiime feature-table relative-frequency \\\n",
    "--i-table grouped-filtered-table.qza \\\n",
    "--o-relative-frequency-table rel-grouped-filtered-table.qza"
   ]
  },
  {
   "cell_type": "markdown",
   "metadata": {},
   "source": [
    "# 2020-05-14 UniFrac distance matrix\n",
    "\n",
    "We measured beta-diversity using weighted UniFrac:"
   ]
  },
  {
   "cell_type": "code",
   "execution_count": 2,
   "metadata": {},
   "outputs": [
    {
     "name": "stdout",
     "output_type": "stream",
     "text": [
      "(qiime2-2019.10) (qiime2-2019.10) \u001b[32mSaved DistanceMatrix % Properties('phylogenetic') to: beta-diversity/unifrac/weighted-unifrac-spe.qza\u001b[0m\n",
      "(qiime2-2019.10) "
     ]
    },
    {
     "ename": "",
     "evalue": "1",
     "output_type": "error",
     "traceback": []
    }
   ],
   "source": [
    "mkdir -p beta-diversity/unifrac\n",
    "\n",
    "qiime diversity beta-phylogenetic \\\n",
    "    --i-table table.qza \\\n",
    "    --i-phylogeny fasttree-tree-rooted-spe.qza \\\n",
    "    --p-metric weighted_unifrac \\\n",
    "    --o-distance-matrix beta-diversity/unifrac/weighted-unifrac-spe.qza"
   ]
  },
  {
   "cell_type": "markdown",
   "metadata": {},
   "source": [
    "We also performed a PERMANOVA using the beta-group-significance command to see if samples within a group are more similar between them than they are to samples from the other groups:"
   ]
  },
  {
   "cell_type": "code",
   "execution_count": 3,
   "metadata": {},
   "outputs": [
    {
     "name": "stdout",
     "output_type": "stream",
     "text": [
      "(qiime2-2019.10) (qiime2-2019.10) \u001b[32mSaved Visualization to: unweighted-unifrac-plant-status-significance.qzv\u001b[0m\n",
      "(qiime2-2019.10) "
     ]
    },
    {
     "ename": "",
     "evalue": "1",
     "output_type": "error",
     "traceback": []
    }
   ],
   "source": [
    "cd beta-diversity/unifrac\n",
    "\n",
    "qiime diversity beta-group-significance \\\n",
    "  --i-distance-matrix weighted-unifrac-spe.qza \\\n",
    "  --m-metadata-file ../../metadata.tsv \\\n",
    "  --m-metadata-column Plant_status \\\n",
    "  --o-visualization unweighted-unifrac-plant-status-significance.qzv \\\n",
    "  --p-pairwise"
   ]
  },
  {
   "cell_type": "code",
   "execution_count": 4,
   "metadata": {},
   "outputs": [
    {
     "name": "stdout",
     "output_type": "stream",
     "text": [
      "Press the 'q' key, Control-C, or Control-D to quit. This view may no longer be accessible or work correctly after quitting.(qiime2-2019.10) "
     ]
    }
   ],
   "source": [
    "qiime tools view unweighted-unifrac-plant-status-significance.qzv"
   ]
  },
  {
   "cell_type": "code",
   "execution_count": null,
   "metadata": {},
   "outputs": [],
   "source": []
  }
 ],
 "metadata": {
  "kernelspec": {
   "display_name": "Bash",
   "language": "bash",
   "name": "bash"
  },
  "language_info": {
   "codemirror_mode": "shell",
   "file_extension": ".sh",
   "mimetype": "text/x-sh",
   "name": "bash"
  }
 },
 "nbformat": 4,
 "nbformat_minor": 2
}
