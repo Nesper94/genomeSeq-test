{
 "cells": [
  {
   "cell_type": "markdown",
   "metadata": {},
   "source": [
    "# Bitácora de trabajo Rizosfera\n",
    "\n",
    "Initialize Qiime2:"
   ]
  },
  {
   "cell_type": "code",
   "execution_count": 1,
   "metadata": {},
   "outputs": [
    {
     "name": "stdout",
     "output_type": "stream",
     "text": [
      "(qiime2-2019.10) "
     ]
    },
    {
     "ename": "",
     "evalue": "1",
     "output_type": "error",
     "traceback": []
    }
   ],
   "source": [
    "source activate qiime2-2019.10"
   ]
  },
  {
   "cell_type": "markdown",
   "metadata": {},
   "source": [
    "Visualization of Feature table stats:"
   ]
  },
  {
   "cell_type": "code",
   "execution_count": 4,
   "metadata": {},
   "outputs": [
    {
     "name": "stdout",
     "output_type": "stream",
     "text": [
      "\u001b[32mSaved Visualization to: table-rh.qzv\u001b[0m\n",
      "(qiime2-2019.10) "
     ]
    },
    {
     "ename": "",
     "evalue": "1",
     "output_type": "error",
     "traceback": []
    }
   ],
   "source": [
    "qiime feature-table summarize \\\n",
    "  --i-table table-rh.qza \\\n",
    "  --o-visualization table-rh.qzv \\\n",
    "  --m-sample-metadata-file metadata-rh.tsv"
   ]
  },
  {
   "cell_type": "code",
   "execution_count": 5,
   "metadata": {},
   "outputs": [
    {
     "name": "stdout",
     "output_type": "stream",
     "text": [
      "Press the 'q' key, Control-C, or Control-D to quit. This view may no longer be accessible or work correctly after quitting.(qiime2-2019.10) "
     ]
    }
   ],
   "source": [
    "qiime tools view table-rh.qzv"
   ]
  },
  {
   "cell_type": "markdown",
   "metadata": {},
   "source": [
    "## 2020-03-05 Rhizosphere taxonomic classification\n",
    "\n",
    "We created the folder `classifier-rhizosphere/` in the Bios server, inside that folder are the files `rep-seqs.qza` corresponding to the rhizosphere reads and the classifier `classifier.qza`.\n",
    "\n",
    "Then we ran the classifier:\n",
    "\n",
    "```sh\n",
    "screen\n",
    "time qiime feature-classifier classify-sklearn \\\n",
    "  --i-classifier classifier.qza \\\n",
    "  --i-reads rep-seqs.qza \\\n",
    "  --o-classification taxonomy-rhizosphere.qza\n",
    "```"
   ]
  },
  {
   "cell_type": "markdown",
   "metadata": {},
   "source": [
    "Export taxonomy to a TSV file:"
   ]
  },
  {
   "cell_type": "code",
   "execution_count": 8,
   "metadata": {},
   "outputs": [
    {
     "name": "stdout",
     "output_type": "stream",
     "text": [
      "\u001b[32mExported classifier/taxonomy-rh.qza as TSVTaxonomyDirectoryFormat to directory classifier/\u001b[0m\n",
      "(qiime2-2019.10) "
     ]
    },
    {
     "ename": "",
     "evalue": "1",
     "output_type": "error",
     "traceback": []
    }
   ],
   "source": [
    "qiime tools export \\\n",
    "    --input-path classifier/taxonomy-rh.qza \\\n",
    "    --output-path classifier/"
   ]
  },
  {
   "cell_type": "markdown",
   "metadata": {},
   "source": [
    "## Phylogenetic inference\n",
    "\n",
    "We aligned the V3-V4 16S sequences by MAFFT in the BIOS server:\n",
    "\n",
    "```bash\n",
    "cd rhizosphere\n",
    "mkdir phylogenetic-tree\n",
    "cd phylogenetic-tree\n",
    "\n",
    "qiime alignment mafft \\\n",
    "  --i-sequences ../rep-seqs-rh.qza \\\n",
    "  --o-alignment aligned-rep-seqs-rh.qza\n",
    "```\n",
    "  \n",
    "Then we did the masking to remove non-informative positions:\n",
    "\n",
    "```bash\n",
    "qiime alignment mask \\\n",
    "  --i-alignment aligned-rep-seqs-rh.qza \\\n",
    "  --o-masked-alignment masked-aligned-rep-seqs-rh.qza\n",
    "```\n",
    "  \n",
    "Then we generated the tree with FastTree:\n",
    "\n",
    "```bash\n",
    "qiime phylogeny fasttree \\\n",
    "  --i-alignment masked-aligned-rep-seqs-rh.qza \\\n",
    "  --o-tree fasttree-tree-rh.qza\n",
    "```\n",
    "  \n",
    "Finally we rooted the tree:\n",
    "\n",
    "```bash\n",
    "qiime phylogeny midpoint-root \\\n",
    "  --i-tree fasttree-tree-rh.qza \\\n",
    "  --o-rooted-tree fasttree-tree-rooted-rh.qza\n",
    "```\n",
    "  \n",
    "## Classification Barplot\n",
    "\n",
    "\n",
    "```bash\n",
    "cd Documentos/genomeseq/rhizosphere/classifier/\n",
    "\n",
    "qiime taxa barplot \\\n",
    "  --i-table table-rh.qza \\\n",
    "  --i-taxonomy taxonomy-rhizosphere.qza \\\n",
    "  --m-metadata-file ../metadata_rhizosphere.tsv \\\n",
    "  --o-visualization taxa-bar-plots-rh.qzv\n",
    "```"
   ]
  },
  {
   "cell_type": "code",
   "execution_count": 2,
   "metadata": {},
   "outputs": [
    {
     "name": "stdout",
     "output_type": "stream",
     "text": [
      "Press the 'q' key, Control-C, or Control-D to quit. This view may no longer be accessible or work correctly after quitting.(qiime2-2019.10) "
     ]
    }
   ],
   "source": [
    "qiime tools view classifier/taxa-bar-plots-rh.qzv"
   ]
  },
  {
   "cell_type": "markdown",
   "metadata": {},
   "source": [
    "## 2020-03-18 Reunión por Meet, pasos a seguir\n",
    "\n",
    "Crear gráficas que permitan ir escribiendo el artículo. La gráfica debe explicarse a sí misma.\n",
    "\n",
    "### Figuras publicación\n",
    "\n",
    "Se creó un archivo de LibreOffice Impress con las figuras tentativas y su respectiva leyenda.\n",
    "\n",
    "## 2020-03-25\n",
    "\n",
    "Estefany me mandó la tabla de ASVs en formato .tsv, así que en el servidor de BIOS la convertí a .biom mediante el siguiente comando:\n",
    "\n",
    "```bash\n",
    "(qiime2-2019.10) jeperezj@r1masterl01:~/jcar/rhizosphere$ biom convert -i rhizosphere_asv.tsv -o table-rh.biom --to-hdf5\n",
    "```\n",
    "\n",
    "Luego convertí el .biom en un .qza:\n",
    "```bash\n",
    "(qiime2-2019.10) jeperezj@r1masterl01:~/jcar/rhizosphere$ qiime tools import \\\n",
    "    --input-path table-rh.biom \\\n",
    "    --type 'FeatureTable[Frequency]' \\\n",
    "    --output-path feature-table-rh.qza\n",
    "```\n",
    "    \n",
    "\n",
    "## Composition analysis (ANCOM)\n",
    "\n",
    "We are also analysing composition in order to know which ASVs have different abundances in the different samples. We ran the following commands:\n",
    "\n",
    "```bash\n",
    "(qiime2-2019.10) jeperezj@r1masterl01:~/jcar/rhizosphere/ancom-composition-analysis$ qiime composition add-pseudocount \\\n",
    "    --i-table feature-table-rh.qza \\\n",
    "    --o-composition-table comp-table-rh.qza\n",
    "    \n",
    "(qiime2-2019.10) jeperezj@r1masterl01:~/jcar/rhizosphere/ancom-composition-analysis$ time qiime composition ancom \\\n",
    "    --i-table comp-table-rh.qza \\\n",
    "    --m-metadata-file ../metadata_rhizosphere.tsv \\\n",
    "    --m-metadata-column Plant_status \\\n",
    "    --o-visualization ancom-plant-status-rh.qzv\n",
    "```\n",
    "\n",
    "The last commands takes a lot of time to run (even in the BIOS server) and has not yet worked.\n",
    "\n",
    "**2020-03-27:** The command worked after fixing the metadata file interchaging the fist two columns.\n",
    "\n",
    "The result was as follows:\n",
    "\n",
    "![ancom-volcano-plot-plant-status-rh-taxa.png](ancom-composition-analysis/ancom-volcano-plot-plant-status-rh-taxa.png)"
   ]
  },
  {
   "cell_type": "code",
   "execution_count": 2,
   "metadata": {},
   "outputs": [
    {
     "name": "stdout",
     "output_type": "stream",
     "text": [
      "Press the 'q' key, Control-C, or Control-D to quit. This view may no longer be accessible or work correctly after quitting.(qiime2-2019.10) "
     ]
    }
   ],
   "source": [
    "qiime tools view ancom-composition-analysis/ancom-plant-status-rh.qzv"
   ]
  },
  {
   "cell_type": "markdown",
   "metadata": {},
   "source": [
    "## ANCOM with only cultured soil\n",
    "\n",
    "As we expect a great change in taxonomic entities between cultured and uncultured soil, is better to create a new data set containing only data from cultured soil and compare Modern and Ancestral samples:\n",
    "\n",
    "```bash\n",
    "(qiime2-2019.10) jeperezj@r1masterl01:~/jcar/rhizosphere/ancom-composition-analysis$ qiime feature-table filter-samples \\\n",
    "    --i-table feature-table-rh.qza \\\n",
    "    --m-metadata-file metadata_rhizosphere.tsv \\\n",
    "    --p-where \"[Plant_status]!='NA'\" \\\n",
    "    --o-filtered-table only-cultured-soil-ancom/cultured-soil-table--rh.qza\n",
    "\n",
    "```\n",
    "\n",
    "Then we ran the ANCOM again:\n",
    "\n",
    "```bash\n",
    "(qiime2-2019.10) jeperezj@r1masterl01:~/jcar/rhizosphere/ancom-composition-analysis/only-cultured-soil-ancom$ qiime composition add-pseudocount \\\n",
    "    --i-table cultured-soil-table--rh.qza \\\n",
    "    --o-composition-table comp-table-cultured-rh.qza\n",
    "\n",
    "(qiime2-2019.10) jeperezj@r1masterl01:~/jcar/rhizosphere/ancom-composition-analysis/only-cultured-soil-ancom$ time qiime composition ancom \\\n",
    "    --i-table comp-table-cultured-rh.qza \\\n",
    "    --m-metadata-file ../metadata_rhizosphere.tsv \\\n",
    "    --m-metadata-column Plant_status \\\n",
    "    --o-visualization ancom-plant-status-cultured-rh.qzv\n",
    "```\n",
    "This was the result:\n",
    "\n",
    "![ancom-volcano-plot-plant-status-cultured-rh-taxa.png](ancom-composition-analysis/ancom-volcano-plot-plant-status-cultured-rh-taxa.png)"
   ]
  },
  {
   "cell_type": "code",
   "execution_count": 3,
   "metadata": {},
   "outputs": [
    {
     "name": "stdout",
     "output_type": "stream",
     "text": [
      "Press the 'q' key, Control-C, or Control-D to quit. This view may no longer be accessible or work correctly after quitting.(qiime2-2019.10) "
     ]
    }
   ],
   "source": [
    "qiime tools view ancom-composition-analysis/ancom-plant-status-cultured-rh.qzv"
   ]
  },
  {
   "cell_type": "markdown",
   "metadata": {},
   "source": [
    "## Visualization of taxonomic classification:\n",
    "\n",
    "```bash\n",
    "(qiime2-2019.10) nesper@gojira-E402MA:~/Documentos/genomeseq/rhizosphere/classifier$ qiime metadata tabulate \\\n",
    "    --m-input-file taxonomy-rhizosphere.qza \\\n",
    "    --o-visualization taxonomy-rhizosphere.qzv\n",
    "```"
   ]
  },
  {
   "cell_type": "markdown",
   "metadata": {},
   "source": [
    "## Family level ANCOM\n",
    "\n",
    "We grouped ASVs by family and ran the ANCOM analysis only for cultured soil at family level:\n",
    "\n",
    "```bash\n",
    "(qiime2-2019.10) jeperezj@r1masterl01:~/jcar/rhizosphere/ancom-composition-analysis/collapsed-to-family$ qiime taxa collapse \\\n",
    "    --i-table cultured-soil-table-rh.qza \\\n",
    "    --i-taxonomy taxonomy-rhizosphere.qza \\\n",
    "    --o-collapsed-table table-family-level-rh.qza \\\n",
    "    --p-level 5\n",
    "    \n",
    "(qiime2-2019.10) jeperezj@r1masterl01:~/jcar/rhizosphere/ancom-composition-analysis/collapsed-to-family$ qiime composition add-pseudocount \\\n",
    "    --i-table table-family-level-rh.qza \\\n",
    "    --o-composition-table comp-table-famlvl-rh.qza\n",
    "\n",
    "(qiime2-2019.10) jeperezj@r1masterl01:~/jcar/rhizosphere/ancom-composition-analysis/collapsed-to-family$ time qiime composition ancom \\\n",
    "    --i-table comp-table-famlvl-rh.qza \\\n",
    "    --m-metadata-file ../metadata_rhizosphere.tsv \\\n",
    "    --m-metadata-column Plant_status \\\n",
    "    --o-visualization ancom-famlvl-cult-rh.qzv\n",
    "```"
   ]
  },
  {
   "cell_type": "markdown",
   "metadata": {},
   "source": [
    "Visualization of ANCOM at family level:"
   ]
  },
  {
   "cell_type": "code",
   "execution_count": 2,
   "metadata": {},
   "outputs": [
    {
     "name": "stdout",
     "output_type": "stream",
     "text": [
      "Press the 'q' key, Control-C, or Control-D to quit. This view may no longer be accessible or work correctly after quitting.(qiime2-2019.10) "
     ]
    }
   ],
   "source": [
    "qiime tools view ancom-composition-analysis/ancom-famlvl-cult-rh.qzv"
   ]
  },
  {
   "cell_type": "markdown",
   "metadata": {},
   "source": [
    "Visualization:\n",
    "\n",
    "![](ancom-composition-analysis/ancom-volcano-plot-plant-status-cultured-famlvl-rh.png)\n",
    "\n",
    "The group with differential abundance was:\n",
    "\n",
    "D_0__Bacteria;D_1__FBP;D_2__metagenome;D_3__metagenome;D_4__metagenome\n",
    "\n",
    "What family could be that?"
   ]
  },
  {
   "cell_type": "markdown",
   "metadata": {},
   "source": [
    "## 2020-04-17 Phylogenetic tree with abundance-filtered Feature table\n",
    "\n",
    "In order to produce a more clean phylogenetic tree we are going to remove features with less than 10 observations.\n",
    "We now proceed to filter the feature table and the rep-seqs accordingly:"
   ]
  },
  {
   "cell_type": "code",
   "execution_count": 2,
   "metadata": {},
   "outputs": [
    {
     "name": "stdout",
     "output_type": "stream",
     "text": [
      "(qiime2-2019.10) (qiime2-2019.10) \u001b[32mSaved FeatureTable[Frequency] to: filtered-data/filtered-table.qza\u001b[0m\n",
      "(qiime2-2019.10) (qiime2-2019.10) \u001b[32mSaved FeatureData[Sequence] to: filtered-data/filtered-rep-seqs.qza\u001b[0m\n",
      "(qiime2-2019.10) "
     ]
    },
    {
     "ename": "",
     "evalue": "1",
     "output_type": "error",
     "traceback": []
    }
   ],
   "source": [
    "mkdir filtered-data\n",
    "\n",
    "qiime feature-table filter-features \\\n",
    "    --i-table table-rh.qza \\\n",
    "    --p-min-frequency 10 \\\n",
    "    --o-filtered-table filtered-data/filtered-table.qza\n",
    "\n",
    "qiime feature-table filter-seqs \\\n",
    "  --i-data rep-seqs-rh.qza \\\n",
    "  --i-table filtered-data/filtered-table.qza \\\n",
    "  --o-filtered-data filtered-data/filtered-rep-seqs.qza"
   ]
  },
  {
   "cell_type": "markdown",
   "metadata": {},
   "source": [
    "Produce the phylogenetic tree with filtered data:"
   ]
  },
  {
   "cell_type": "code",
   "execution_count": 3,
   "metadata": {},
   "outputs": [
    {
     "name": "stdout",
     "output_type": "stream",
     "text": [
      "(qiime2-2019.10) (qiime2-2019.10) \u001b[32mSaved FeatureData[AlignedSequence] to: aligned-filtered-rep-seqs.qza\u001b[0m\n",
      "(qiime2-2019.10) (qiime2-2019.10) \u001b[32mSaved FeatureData[AlignedSequence] to: masked-aligned-filtered-rep-seqs.qza\u001b[0m\n",
      "(qiime2-2019.10) (qiime2-2019.10) \u001b[32mSaved Phylogeny[Unrooted] to: unrooted-tree-filtered.qza\u001b[0m\n",
      "(qiime2-2019.10) (qiime2-2019.10) (qiime2-2019.10) "
     ]
    },
    {
     "ename": "",
     "evalue": "1",
     "output_type": "error",
     "traceback": []
    }
   ],
   "source": [
    "cd filtered-data\n",
    "\n",
    "qiime alignment mafft \\\n",
    "  --i-sequences filtered-rep-seqs.qza \\\n",
    "  --o-alignment aligned-filtered-rep-seqs.qza\n",
    "\n",
    "qiime alignment mask \\\n",
    "  --i-alignment aligned-filtered-rep-seqs.qza \\\n",
    "  --o-masked-alignment masked-aligned-filtered-rep-seqs.qza\n",
    "\n",
    "qiime phylogeny fasttree \\\n",
    "  --i-alignment masked-aligned-filtered-rep-seqs.qza \\\n",
    "  --o-tree unrooted-tree-filtered.qza\n",
    "  \n",
    "cd ../"
   ]
  },
  {
   "cell_type": "markdown",
   "metadata": {},
   "source": [
    "Group samples by Plant_status:"
   ]
  },
  {
   "cell_type": "code",
   "execution_count": 5,
   "metadata": {},
   "outputs": [
    {
     "name": "stdout",
     "output_type": "stream",
     "text": [
      "\u001b[32mSaved FeatureTable[Frequency] to: filtered-data/grouped-filtered-table.qza\u001b[0m\n",
      "(qiime2-2019.10) "
     ]
    },
    {
     "ename": "",
     "evalue": "1",
     "output_type": "error",
     "traceback": []
    }
   ],
   "source": [
    "qiime feature-table group \\\n",
    "    --i-table filtered-data/filtered-table.qza \\\n",
    "    --p-axis sample \\\n",
    "    --m-metadata-file metadata-rh.tsv \\\n",
    "    --m-metadata-column Plant_status \\\n",
    "    --p-mode sum \\\n",
    "    --o-grouped-table filtered-data/grouped-filtered-table.qza"
   ]
  },
  {
   "cell_type": "markdown",
   "metadata": {},
   "source": [
    "The resulting tree was uploaded to iToL and exported from there. This is the result:\n",
    "![](itol-tree/tree.svg)"
   ]
  },
  {
   "cell_type": "markdown",
   "metadata": {},
   "source": [
    "## 2020-05-13 UniFrac distance matrix\n",
    "\n",
    "We measured beta-diversity using weighted UniFrac:"
   ]
  },
  {
   "cell_type": "code",
   "execution_count": 9,
   "metadata": {},
   "outputs": [
    {
     "name": "stdout",
     "output_type": "stream",
     "text": [
      "(qiime2-2019.10) (qiime2-2019.10) \u001b[32mSaved DistanceMatrix % Properties('phylogenetic') to: beta-diversity/unifrac/weighted-unifrac-rh.qza\u001b[0m\n",
      "(qiime2-2019.10) "
     ]
    },
    {
     "ename": "",
     "evalue": "1",
     "output_type": "error",
     "traceback": []
    }
   ],
   "source": [
    "mkdir -p beta-diversity/unifrac\n",
    "\n",
    "qiime diversity beta-phylogenetic \\\n",
    "    --i-table table.qza \\\n",
    "    --i-phylogeny fasttree-tree-rooted-rh.qza \\\n",
    "    --p-metric weighted_unifrac \\\n",
    "    --o-distance-matrix beta-diversity/unifrac/weighted-unifrac-rh.qza"
   ]
  },
  {
   "cell_type": "markdown",
   "metadata": {},
   "source": [
    "We also performed a PERMANOVA using the `beta-group-significance` command to see if samples within a group are more similar between them than they are to samples from the other groups:"
   ]
  },
  {
   "cell_type": "code",
   "execution_count": 10,
   "metadata": {},
   "outputs": [
    {
     "name": "stdout",
     "output_type": "stream",
     "text": [
      "(qiime2-2019.10) (qiime2-2019.10) \u001b[32mSaved Visualization to: unweighted-unifrac-plant-status-significance.qzv\u001b[0m\n",
      "(qiime2-2019.10) "
     ]
    },
    {
     "ename": "",
     "evalue": "1",
     "output_type": "error",
     "traceback": []
    }
   ],
   "source": [
    "cd beta-diversity/unifrac\n",
    "\n",
    "qiime diversity beta-group-significance \\\n",
    "  --i-distance-matrix weighted-unifrac-rh.qza \\\n",
    "  --m-metadata-file ../../metadata.tsv \\\n",
    "  --m-metadata-column Plant_status \\\n",
    "  --o-visualization unweighted-unifrac-plant-status-significance.qzv \\\n",
    "  --p-pairwise"
   ]
  },
  {
   "cell_type": "code",
   "execution_count": 11,
   "metadata": {},
   "outputs": [
    {
     "name": "stdout",
     "output_type": "stream",
     "text": [
      "Press the 'q' key, Control-C, or Control-D to quit. This view may no longer be accessible or work correctly after quitting.(qiime2-2019.10) "
     ]
    }
   ],
   "source": [
    "qiime tools view unweighted-unifrac-plant-status-significance.qzv"
   ]
  },
  {
   "cell_type": "code",
   "execution_count": null,
   "metadata": {},
   "outputs": [],
   "source": []
  }
 ],
 "metadata": {
  "kernelspec": {
   "display_name": "Bash",
   "language": "bash",
   "name": "bash"
  },
  "language_info": {
   "codemirror_mode": "shell",
   "file_extension": ".sh",
   "mimetype": "text/x-sh",
   "name": "bash"
  }
 },
 "nbformat": 4,
 "nbformat_minor": 2
}
